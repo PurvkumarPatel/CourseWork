{
 "cells": [
  {
   "cell_type": "code",
   "execution_count": 7,
   "metadata": {},
   "outputs": [
    {
     "name": "stdout",
     "output_type": "stream",
     "text": [
      "Solving the linear equation AX = B using Gaussian Elimination:\n",
      "Solution X:\n",
      "X1 = 1.3846153846153846\n",
      "X2 = 2.153846153846154\n",
      "X3 = 3.0769230769230766\n"
     ]
    }
   ],
   "source": [
    "def gaussian_elimination(A, B):\n",
    "    n = len(A)\n",
    "    \n",
    "    augmented_matrix = []\n",
    "    for i in range(n):\n",
    "        augmented_matrix.append(A[i] + [B[i][0]])\n",
    "\n",
    "    for i in range(n):\n",
    "        max_row = i\n",
    "        for j in range(i + 1, n):\n",
    "            if abs(augmented_matrix[j][i]) > abs(augmented_matrix[max_row][i]):\n",
    "                max_row = j\n",
    "        augmented_matrix[i], augmented_matrix[max_row] = augmented_matrix[max_row], augmented_matrix[i]\n",
    "\n",
    "        for j in range(i + 1, n):\n",
    "            factor = augmented_matrix[j][i] / augmented_matrix[i][i]\n",
    "            for k in range(i, n + 1):\n",
    "                augmented_matrix[j][k] -= factor * augmented_matrix[i][k]\n",
    "\n",
    "    X = [0] * n\n",
    "    for i in range(n - 1, -1, -1):\n",
    "        X[i] = augmented_matrix[i][-1]\n",
    "        for j in range(i + 1, n):\n",
    "            X[i] -= augmented_matrix[i][j] * X[j]\n",
    "        X[i] /= augmented_matrix[i][i]\n",
    "\n",
    "    return X\n",
    "\n",
    "# Example matrices\n",
    "A = [[2, 1, 1],\n",
    "     [1, 3, 2],\n",
    "     [-1, 1, 3]]\n",
    "\n",
    "B = [[8],\n",
    "     [14],\n",
    "     [10]]\n",
    "\n",
    "X = gaussian_elimination(A, B)\n",
    "\n",
    "# Printing the output\n",
    "print(\"Solving the linear equation AX = B using Gaussian Elimination:\")\n",
    "print(\"Solution X:\")\n",
    "for i, x in enumerate(X):\n",
    "    print(f\"X{i + 1} =\", x)\n"
   ]
  },
  {
   "cell_type": "code",
   "execution_count": 8,
   "metadata": {},
   "outputs": [
    {
     "name": "stdout",
     "output_type": "stream",
     "text": [
      "Solving the linear equation AX = B using Gauss Jordan Elimination:\n",
      "Solution X:\n",
      "X1 = [1.3846153846153846]\n",
      "X2 = [2.153846153846154]\n",
      "X3 = [3.0769230769230766]\n"
     ]
    }
   ],
   "source": [
    "def gauss_jordan_elimination(A, B):\n",
    "    n = len(A)\n",
    "\n",
    "    for i in range(n):\n",
    "        # Check if the diagonal element is zero, if so, swap rows\n",
    "        if A[i][i] == 0:\n",
    "            for k in range(i + 1, n):\n",
    "                if A[k][i] != 0:\n",
    "                    A[i], A[k] = A[k], A[i]\n",
    "                    B[i], B[k] = B[k], B[i]\n",
    "                    break\n",
    "            else:\n",
    "                return None  # Matrix is singular, no unique solution\n",
    "\n",
    "        pivot = A[i][i]\n",
    "\n",
    "        # Normalize the pivot row\n",
    "        for j in range(n):\n",
    "            A[i][j] /= pivot\n",
    "        for j in range(len(B[i])):\n",
    "            B[i][j] /= pivot\n",
    "\n",
    "        # Eliminate other rows\n",
    "        for k in range(n):\n",
    "            if k != i:\n",
    "                factor = A[k][i]\n",
    "                for j in range(n):\n",
    "                    A[k][j] -= factor * A[i][j]\n",
    "                for j in range(len(B[k])):\n",
    "                    B[k][j] -= factor * B[i][j]\n",
    "\n",
    "    return B\n",
    "\n",
    "if __name__ == \"__main__\":\n",
    "    # Coefficients matrix A\n",
    "    A = [[2, 1, 1],\n",
    "         [1, 3, 2],\n",
    "         [-1, 1, 3]]\n",
    "\n",
    "    # Right-hand side vector B\n",
    "    B = [[8],\n",
    "         [14],\n",
    "         [10]]\n",
    "\n",
    "    solution = gauss_jordan_elimination(A, B)\n",
    "\n",
    "    if solution is None:\n",
    "        print(\"The matrix is singular. No unique solution exists.\")\n",
    "    else:\n",
    "        print(\"Solving the linear equation AX = B using Gauss Jordan Elimination:\")\n",
    "        print(\"Solution X:\")\n",
    "        for i, x in enumerate(solution):\n",
    "            print(f\"X{i + 1} =\", x)\n"
   ]
  }
 ],
 "metadata": {
  "kernelspec": {
   "display_name": "Python 3",
   "language": "python",
   "name": "python3"
  },
  "language_info": {
   "codemirror_mode": {
    "name": "ipython",
    "version": 3
   },
   "file_extension": ".py",
   "mimetype": "text/x-python",
   "name": "python",
   "nbconvert_exporter": "python",
   "pygments_lexer": "ipython3",
   "version": "3.11.4"
  },
  "orig_nbformat": 4
 },
 "nbformat": 4,
 "nbformat_minor": 2
}
