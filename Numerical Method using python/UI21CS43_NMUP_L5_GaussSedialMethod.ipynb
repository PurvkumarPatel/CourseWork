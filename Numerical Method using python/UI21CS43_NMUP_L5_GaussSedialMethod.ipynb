{
 "cells": [
  {
   "cell_type": "code",
   "execution_count": 1,
   "id": "be20c533-ccce-4ea0-84f7-6129098245f4",
   "metadata": {},
   "outputs": [
    {
     "name": "stdin",
     "output_type": "stream",
     "text": [
      "Enter the number of unknowns:  3\n",
      "Enter the coefficients of equation 1 separated by spaces:  2 -1 0\n",
      "Enter the constant term of equation 1:  7\n",
      "Enter the coefficients of equation 2 separated by spaces:  -1 2 -1\n",
      "Enter the constant term of equation 2:  1\n",
      "Enter the coefficients of equation 3 separated by spaces:  0 -1 2\n",
      "Enter the constant term of equation 3:  1\n"
     ]
    },
    {
     "name": "stdout",
     "output_type": "stream",
     "text": [
      "[5.99999934 4.99999934 2.99999967]\n"
     ]
    }
   ],
   "source": [
    "import numpy as np\n",
    "\n",
    "n = int(input(\"Enter the number of unknowns: \"))\n",
    "A = np.zeros((n, n))\n",
    "B = np.zeros(n)\n",
    "for i in range(n):\n",
    "    row = input(f\"Enter the coefficients of equation {i+1} separated by spaces: \")\n",
    "    A[i] = [float(x) for x in row.split()]\n",
    "    B[i] = float(input(f\"Enter the constant term of equation {i+1}: \"))\n",
    "x0 = np.zeros(n)\n",
    "tol = 1e-6\n",
    "max_iter = 100\n",
    "\n",
    "def gauss_seidel(A, B, x0, tol=1e-6, max_iter=100):\n",
    "    n = len(A)\n",
    "    x = x0.copy()\n",
    "    for k in range(max_iter):\n",
    "        for i in range(n):\n",
    "            s = sum(A[i][j] * x[j] for j in range(n) if j != i)\n",
    "            x[i] = (B[i] - s) / A[i][i]\n",
    "        if np.linalg.norm(np.dot(A, x) - B) < tol:\n",
    "            return x \n",
    "    raise ValueError(\"Gauss-Seidel failed to converge\")\n",
    "\n",
    "x = gauss_seidel(A, B, x0)\n",
    "print(x)\n"
   ]
  },
  {
   "cell_type": "code",
   "execution_count": null,
   "id": "6799374c-16b0-40d0-af74-55d0d3b733a0",
   "metadata": {},
   "outputs": [],
   "source": []
  }
 ],
 "metadata": {
  "kernelspec": {
   "display_name": "Python 3 (ipykernel)",
   "language": "python",
   "name": "python3"
  },
  "language_info": {
   "codemirror_mode": {
    "name": "ipython",
    "version": 3
   },
   "file_extension": ".py",
   "mimetype": "text/x-python",
   "name": "python",
   "nbconvert_exporter": "python",
   "pygments_lexer": "ipython3",
   "version": "3.11.4"
  }
 },
 "nbformat": 4,
 "nbformat_minor": 5
}
