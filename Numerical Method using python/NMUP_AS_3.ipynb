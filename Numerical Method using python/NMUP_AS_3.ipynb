{
 "cells": [
  {
   "cell_type": "code",
   "execution_count": 1,
   "id": "0be47ee1-fd66-42cd-b6f8-a32df6794d59",
   "metadata": {},
   "outputs": [
    {
     "name": "stdout",
     "output_type": "stream",
     "text": [
      "Reversed list without using built-in method: [7, 6, 5, 4, 3, 2, 1]\n",
      "Reversed list using built-in method: [7, 6, 5, 4, 3, 2, 1]\n"
     ]
    }
   ],
   "source": [
    "user_input = input(\"Enter a list of numbers separated by spaces: \")\n",
    "lst = [int(x) for x in user_input.split()]\n",
    "\n",
    "def custom_reverse(arr):\n",
    "    l = 0\n",
    "    r = len(arr) - 1\n",
    "    while l < r:\n",
    "        temp = arr[l]\n",
    "        arr[l] = arr[r]\n",
    "        arr[r] = temp\n",
    "        l = l + 1\n",
    "        r = r - 1\n",
    "    return arr\n",
    "\n",
    "reversed_lst = custom_reverse(lst.copy()) \n",
    "print(\"Reversed list without using built-in method:\", reversed_lst)\n",
    "\n",
    "lst.reverse()\n",
    "print(\"Reversed list using built-in method:\", lst)\n"
   ]
  },
  {
   "cell_type": "code",
   "execution_count": 9,
   "id": "c691f01b-334e-4037-b88b-4397e5775252",
   "metadata": {},
   "outputs": [
    {
     "name": "stdout",
     "output_type": "stream",
     "text": [
      "\n",
      "Number of Alphabets:   9\n",
      "Number of Digits:   0\n",
      "Number of Special Characters:   3\n",
      "Number of words:   2\n"
     ]
    }
   ],
   "source": [
    "string = input(\"Enter String: \")\n",
    "alphabets = digits = special = 0\n",
    "a=1\n",
    "for i in range(len(string)):\n",
    "    if(string[i].isalpha()):\n",
    "        alphabets = alphabets + 1\n",
    "    elif(string[i].isdigit()):\n",
    "        digits = digits + 1\n",
    "    else:\n",
    "        special = special + 1\n",
    "        if(string[i] == ' '):\n",
    "         a=a+1\n",
    "        \n",
    "print(\"\\nNumber of Alphabets:  \", alphabets)\n",
    "print(\"Number of Digits:  \", digits)\n",
    "print(\"Number of Special Characters:  \", special)\n",
    "print(\"Number of words:  \",len(string.split()))"
   ]
  },
  {
   "cell_type": "code",
   "execution_count": 3,
   "id": "432db054-c6db-46c3-a699-493b0c66c770",
   "metadata": {},
   "outputs": [
    {
     "name": "stdout",
     "output_type": "stream",
     "text": [
      "dfag;-j-a;djgfad-;oadb-cx;b-\n"
     ]
    }
   ],
   "source": [
    "def replacespace():\n",
    "    string = input(\"Enter a sentence: \") \n",
    "    newstr = string.replace(\" \",\"-\") \n",
    "    print(newstr)\n",
    "    \n",
    "replacespace()"
   ]
  },
  {
   "cell_type": "code",
   "execution_count": 10,
   "id": "e7af25b5-40c6-4b08-9ff1-219e41a5bce2",
   "metadata": {},
   "outputs": [
    {
     "name": "stdout",
     "output_type": "stream",
     "text": [
      "URVATEL\n"
     ]
    }
   ],
   "source": [
    "def deleteChar(string,char):\n",
    "    newstr = \"\" \n",
    "    for ch in string: \n",
    "        if ch != char: \n",
    "            newstr+=ch\n",
    "    return newstr \n",
    "    \n",
    "string = input(\"Enter a string: \") \n",
    "char = (input(\"Enter a character: \"))\n",
    "print(deleteChar(string,char))"
   ]
  },
  {
   "cell_type": "code",
   "execution_count": 5,
   "id": "237919dc-560e-42fa-9f7e-51adc261aba0",
   "metadata": {},
   "outputs": [
    {
     "name": "stdout",
     "output_type": "stream",
     "text": [
      "The input string in title case is: Asdbvbvv  Vxcxvsd Sfsa\n"
     ]
    }
   ],
   "source": [
    "def convertToTitle(string):\n",
    "    titleString = string.title();\n",
    "    print(\"The input string in title case is:\",titleString)\n",
    "userInput = input(\"Write a sentence: \")\n",
    "totalSpace = 0\n",
    "for b in userInput:\n",
    "    if b.isspace():\n",
    "         totalSpace += 1\n",
    "if(userInput.istitle()):\n",
    "    print(\"The String is already in title case\")\n",
    "elif(totalSpace > 0):\n",
    "    convertToTitle(userInput)\n",
    "else:\n",
    "    print(\"The String is of one word only\")"
   ]
  },
  {
   "cell_type": "code",
   "execution_count": 12,
   "id": "8d9f972d-d124-47b7-bd75-52853bae2995",
   "metadata": {},
   "outputs": [
    {
     "name": "stdout",
     "output_type": "stream",
     "text": [
      "\n",
      "a-> \n",
      "{'Purv': 123456, 'Patel': 987654}\n",
      "\n",
      "b-> \n",
      "{'Purv': 123456, 'Patel': 987654, 'Rock': 456321}\n",
      "\n",
      "c-> \n",
      "{'Patel': 987654, 'Rock': 456321}\n",
      "\n",
      "d-> \n",
      "{'Patel': 987654, 'Rock': 987652}\n",
      "\n",
      "e-> \n",
      "Found\n",
      "\n",
      "f-> \n",
      "{'Patel': 987654, 'Rock': 987652}\n"
     ]
    }
   ],
   "source": [
    "dic = { }\n",
    "while True :\n",
    "    name = input(\"Enter name of friend: \")\n",
    "    phone = int( input(\"Enter phone number of friend: \" ))\n",
    "    dic[name] = phone\n",
    "    choise = input(\"Enter Q to quit otherwise N: \")\n",
    "    if choise == \"Q\" or choise == \"q\" :\n",
    "        break\n",
    "\n",
    "#a\n",
    "print()\n",
    "print(\"a-> \")\n",
    "print(dic)\n",
    "\n",
    "#b\n",
    "print()\n",
    "print(\"b-> \")\n",
    "name = input( \"Enter name of friend :-\")\n",
    "phone = int(input(\"Enter phone number of friend :-\" ))\n",
    "dic[name] = phone\n",
    "print(dic)\n",
    "\n",
    "#c\n",
    "print()\n",
    "print(\"c-> \")\n",
    "name = input( \"Enter name of that friend which you want to delete :-\")\n",
    "del dic[name]\n",
    "print(dic)\n",
    "\n",
    "#d\n",
    "print()\n",
    "print(\"d-> \")\n",
    "name = input( \"Enter name of that friend which you want to change his phone number :-\")\n",
    "phone = int(input (\"Enter phone number of friend :-\" ))\n",
    "del dic[name]\n",
    "dic[name] = phone\n",
    "print(dic)\n",
    "\n",
    "#e\n",
    "print()\n",
    "print(\"e-> \")\n",
    "name = input( \"Enter name of that friend which you want to search :-\")\n",
    "if name in dic :\n",
    "    print(\"Found\")\n",
    "else :\n",
    "    print(\"Not Found\")\n",
    "\n",
    "#f\n",
    "print()\n",
    "print(\"f-> \")\n",
    "newdic = {}\n",
    "key = list(dic.keys())\n",
    "key.sort()\n",
    "for i in key :\n",
    "    newdic[i] = dic [i]\n",
    "print(newdic)"
   ]
  }
 ],
 "metadata": {
  "kernelspec": {
   "display_name": "Python 3 (ipykernel)",
   "language": "python",
   "name": "python3"
  },
  "language_info": {
   "codemirror_mode": {
    "name": "ipython",
    "version": 3
   },
   "file_extension": ".py",
   "mimetype": "text/x-python",
   "name": "python",
   "nbconvert_exporter": "python",
   "pygments_lexer": "ipython3",
   "version": "3.11.4"
  }
 },
 "nbformat": 4,
 "nbformat_minor": 5
}
