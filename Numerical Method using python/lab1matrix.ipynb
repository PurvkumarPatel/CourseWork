{
 "cells": [
  {
   "cell_type": "code",
   "execution_count": 1,
   "id": "0264d2c5-376a-45f1-b986-b5b80117705d",
   "metadata": {
    "scrolled": true
   },
   "outputs": [
    {
     "name": "stdout",
     "output_type": "stream",
     "text": [
      "Enter the coefficients matrix A:\n"
     ]
    },
    {
     "name": "stdout",
     "output_type": "stream",
     "text": [
      "Enter the elements of row 1 separated by space:\n",
      "Invalid input! Please enter the correct number of elements.\n",
      "Enter the right-hand side vector B:\n"
     ]
    },
    {
     "ename": "ValueError",
     "evalue": "invalid literal for int() with base 10: ''",
     "output_type": "error",
     "traceback": [
      "\u001b[1;31m---------------------------------------------------------------------------\u001b[0m",
      "\u001b[1;31mValueError\u001b[0m                                Traceback (most recent call last)",
      "Cell \u001b[1;32mIn[1], line 64\u001b[0m\n\u001b[0;32m     61\u001b[0m A \u001b[39m=\u001b[39m get_matrix_input()\n\u001b[0;32m     63\u001b[0m \u001b[39mprint\u001b[39m(\u001b[39m\"\u001b[39m\u001b[39mEnter the right-hand side vector B:\u001b[39m\u001b[39m\"\u001b[39m)\n\u001b[1;32m---> 64\u001b[0m B \u001b[39m=\u001b[39m get_matrix_input()\n\u001b[0;32m     66\u001b[0m \u001b[39mif\u001b[39;00m \u001b[39mnot\u001b[39;00m A \u001b[39mor\u001b[39;00m \u001b[39mnot\u001b[39;00m B:\n\u001b[0;32m     67\u001b[0m     \u001b[39mprint\u001b[39m(\u001b[39m\"\u001b[39m\u001b[39mInvalid input! Please provide valid matrices.\u001b[39m\u001b[39m\"\u001b[39m)\n",
      "Cell \u001b[1;32mIn[1], line 46\u001b[0m, in \u001b[0;36mget_matrix_input\u001b[1;34m()\u001b[0m\n\u001b[0;32m     44\u001b[0m \u001b[39mdef\u001b[39;00m \u001b[39mget_matrix_input\u001b[39m():\n\u001b[0;32m     45\u001b[0m     matrix \u001b[39m=\u001b[39m []\n\u001b[1;32m---> 46\u001b[0m     rows \u001b[39m=\u001b[39m \u001b[39mint\u001b[39;49m(\u001b[39minput\u001b[39;49m(\u001b[39m\"\u001b[39;49m\u001b[39mEnter the number of rows in the matrix: \u001b[39;49m\u001b[39m\"\u001b[39;49m))\n\u001b[0;32m     47\u001b[0m     cols \u001b[39m=\u001b[39m \u001b[39mint\u001b[39m(\u001b[39minput\u001b[39m(\u001b[39m\"\u001b[39m\u001b[39mEnter the number of columns in the matrix: \u001b[39m\u001b[39m\"\u001b[39m))\n\u001b[0;32m     49\u001b[0m     \u001b[39mfor\u001b[39;00m i \u001b[39min\u001b[39;00m \u001b[39mrange\u001b[39m(rows):\n",
      "\u001b[1;31mValueError\u001b[0m: invalid literal for int() with base 10: ''"
     ]
    }
   ],
   "source": [
    "def validate_matrix(matrix):\n",
    "    num_rows = len(matrix)\n",
    "    num_cols = len(matrix[0])\n",
    "\n",
    "    for row in matrix:\n",
    "        if len(row) != num_cols:\n",
    "            return False\n",
    "\n",
    "    return True\n",
    "\n",
    "def gauss_jordan_elimination(A, B):\n",
    "    n = len(A)\n",
    "\n",
    "    for i in range(n):\n",
    "        # Check if the diagonal element is zero, if so, swap rows\n",
    "        if A[i][i] == 0:\n",
    "            for k in range(i + 1, n):\n",
    "                if A[k][i] != 0:\n",
    "                    A[i], A[k] = A[k], A[i]\n",
    "                    B[i], B[k] = B[k], B[i]\n",
    "                    break\n",
    "            else:\n",
    "                return None  # Matrix is singular, no unique solution\n",
    "\n",
    "        pivot = A[i][i]\n",
    "\n",
    "        # Normalize the pivot row\n",
    "        for j in range(n):\n",
    "            A[i][j] /= pivot\n",
    "        for j in range(len(B[i])):\n",
    "            B[i][j] /= pivot\n",
    "\n",
    "        # Eliminate other rows\n",
    "        for k in range(n):\n",
    "            if k != i:\n",
    "                factor = A[k][i]\n",
    "                for j in range(n):\n",
    "                    A[k][j] -= factor * A[i][j]\n",
    "                for j in range(len(B[k])):\n",
    "                    B[k][j] -= factor * B[i][j]\n",
    "\n",
    "    return B\n",
    "\n",
    "def get_matrix_input():\n",
    "    matrix = []\n",
    "    rows = int(input(\"Enter the number of rows in the matrix: \"))\n",
    "    cols = int(input(\"Enter the number of columns in the matrix: \"))\n",
    "\n",
    "    for i in range(rows):\n",
    "        print(f\"Enter the elements of row {i + 1} separated by space:\")\n",
    "        row = list(map(float, input().split()))\n",
    "        if len(row) != cols:\n",
    "            print(\"Invalid input! Please enter the correct number of elements.\")\n",
    "            return None\n",
    "        matrix.append(row)\n",
    "\n",
    "    return matrix\n",
    "\n",
    "if __name__ == \"__main__\":\n",
    "    print(\"Enter the coefficients matrix A:\")\n",
    "    A = get_matrix_input()\n",
    "\n",
    "    print(\"Enter the right-hand side vector B:\")\n",
    "    B = get_matrix_input()\n",
    "\n",
    "    if not A or not B:\n",
    "        print(\"Invalid input! Please provide valid matrices.\")\n",
    "    else:\n",
    "        if len(A) != len(B):\n",
    "            print(\"Invalid input! A and B matrices must have the same number of rows.\")\n",
    "        else:\n",
    "            solution = gauss_jordan_elimination(A, B)\n",
    "\n",
    "            if solution is None:\n",
    "                print(\"The matrix is singular. No unique solution exists.\")\n",
    "            else:\n",
    "                print(\"Solution X:\")\n",
    "                for i, x in enumerate(solution):\n",
    "                    print(f\"X{i + 1} =\", x)\n"
   ]
  },
  {
   "cell_type": "code",
   "execution_count": null,
   "id": "eca7f2bc-3696-40fa-a8b8-6ba7825c336e",
   "metadata": {},
   "outputs": [],
   "source": []
  }
 ],
 "metadata": {
  "kernelspec": {
   "display_name": "Python 3 (ipykernel)",
   "language": "python",
   "name": "python3"
  },
  "language_info": {
   "codemirror_mode": {
    "name": "ipython",
    "version": 3
   },
   "file_extension": ".py",
   "mimetype": "text/x-python",
   "name": "python",
   "nbconvert_exporter": "python",
   "pygments_lexer": "ipython3",
   "version": "3.11.4"
  }
 },
 "nbformat": 4,
 "nbformat_minor": 5
}
